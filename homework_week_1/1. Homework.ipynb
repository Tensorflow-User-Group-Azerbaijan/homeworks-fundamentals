{
 "cells": [
  {
   "cell_type": "markdown",
   "id": "danish-relations",
   "metadata": {},
   "source": [
    "<img src=\"images/tensorflow.jpg\">"
   ]
  },
  {
   "cell_type": "markdown",
   "id": "worse-comedy",
   "metadata": {},
   "source": [
    "## Exercise 1.\n",
    " \n",
    "#### Display the number of letters in the string\n"
   ]
  },
  {
   "cell_type": "code",
   "execution_count": null,
   "id": "antique-retro",
   "metadata": {},
   "outputs": [],
   "source": [
    "my_word = \"tensorflowusergroupazerbaijan\"\n",
    "print(#yourcode)"
   ]
  },
  {
   "cell_type": "markdown",
   "id": "given-index",
   "metadata": {},
   "source": [
    "## Exercise 2.\n",
    " \n",
    "#### Display two strings together, with a space in between. Then assign it in variable\n",
    "\n"
   ]
  },
  {
   "cell_type": "code",
   "execution_count": null,
   "id": "behind-building",
   "metadata": {},
   "outputs": [],
   "source": [
    "string_one = \"tensorflow\"\n",
    "string_two = \"azerbaijan\"\n",
    "\n",
    "combined = #yourcode\n",
    "print(combined)"
   ]
  },
  {
   "cell_type": "markdown",
   "id": "protective-breeding",
   "metadata": {},
   "source": [
    "## Exercise 3.\n",
    " \n",
    "#### Display \"Azerbaijan\" substring of a string\n",
    "\n",
    "\n"
   ]
  },
  {
   "cell_type": "code",
   "execution_count": null,
   "id": "coupled-penguin",
   "metadata": {},
   "outputs": [],
   "source": [
    "my_word = \"tensorflowusergroupazerbaijan\"\n",
    "print(#yourcode)"
   ]
  },
  {
   "cell_type": "markdown",
   "id": "french-engineer",
   "metadata": {},
   "source": [
    "## Exercise 4.\n",
    " \n",
    "#### Display string as \"TensorFlowAzerbaijan\" by using capitalize() function. \n",
    "\n",
    "\n"
   ]
  },
  {
   "cell_type": "code",
   "execution_count": 7,
   "id": "altered-blackjack",
   "metadata": {},
   "outputs": [],
   "source": [
    "my_word = \"tensorflowusergroupazerbaijan\"\n"
   ]
  },
  {
   "cell_type": "markdown",
   "id": "moral-going",
   "metadata": {},
   "source": [
    "## Exercise 5.\n",
    " \n",
    "#### Use two numbers and calculate their power"
   ]
  },
  {
   "cell_type": "code",
   "execution_count": 6,
   "id": "differential-citizenship",
   "metadata": {},
   "outputs": [
    {
     "name": "stdout",
     "output_type": "stream",
     "text": [
      "5  to the power of  3  =  125.0\n"
     ]
    }
   ],
   "source": [
    "base = 5\n",
    "exponent = 3\n",
    "result = # your code\n",
    "print(base,\"to the power of\",exponent, \" = \",result)"
   ]
  },
  {
   "cell_type": "markdown",
   "id": "continued-connection",
   "metadata": {},
   "source": [
    "## Exercise 6.\n",
    "\n",
    "\n",
    "#### Display string as \"TensorFlow Azerbaijan\""
   ]
  },
  {
   "cell_type": "code",
   "execution_count": null,
   "id": "formal-blond",
   "metadata": {},
   "outputs": [],
   "source": [
    "my_word = \"tensorflowazerbaijan\"\n"
   ]
  },
  {
   "cell_type": "markdown",
   "id": "defensive-publication",
   "metadata": {},
   "source": [
    "## OPTIONAL: Exercise 7.\n",
    "\n",
    "#### Implement sigmoid function in Python. \n",
    "\n",
    "The exp() function in Python allows users to calculate the exponential value with the base set to e. The function takes as input the exponent value. The general syntax of the function is:\n",
    "\n",
    "`math.exp(exponent)`\n",
    "\n",
    "Python number method exp() returns returns exponential of x: $e^x$\t.\n",
    "\n",
    "\n",
    "\n",
    "In this exercise, you should implement sigmoid function in Python. Basically, the Sigmoid Function returns a value between 1 and 0, this is too powerful for Binary Classification Problems.\n",
    "\n",
    "<img src=\"images/sigmoid.png\">\n",
    "\n",
    "For calculating the exponential value in Python, you can refer: https://www.tutorialspoint.com/python/number_exp.htm\n",
    "\n",
    "For learning more about sigmoid function, you can read: \n",
    "\n",
    "1.https://machinelearningmastery.com/a-gentle-introduction-to-sigmoid-function/\n",
    "\n",
    "2.https://medium.com/@gabriel.mayers/sigmoid-function-explained-in-less-than-5-minutes-ca156eb3049a"
   ]
  },
  {
   "cell_type": "code",
   "execution_count": 34,
   "id": "recorded-printer",
   "metadata": {},
   "outputs": [
    {
     "data": {
      "text/plain": [
       "2.718281828459045"
      ]
     },
     "execution_count": 34,
     "metadata": {},
     "output_type": "execute_result"
    }
   ],
   "source": [
    "math.exp(1)"
   ]
  },
  {
   "cell_type": "code",
   "execution_count": 35,
   "id": "foreign-spotlight",
   "metadata": {},
   "outputs": [
    {
     "name": "stdout",
     "output_type": "stream",
     "text": [
      "0.8807970779778823\n"
     ]
    }
   ],
   "source": [
    "import math   # This will import math module\n",
    "\n",
    "x=2\n",
    "\n",
    "print(1/(1 + #yourcode))\n",
    "         \n",
    "# answer should be: 0.8807970779778823"
   ]
  }
 ],
 "metadata": {
  "kernelspec": {
   "display_name": "Python 3",
   "language": "python",
   "name": "python3"
  },
  "language_info": {
   "codemirror_mode": {
    "name": "ipython",
    "version": 3
   },
   "file_extension": ".py",
   "mimetype": "text/x-python",
   "name": "python",
   "nbconvert_exporter": "python",
   "pygments_lexer": "ipython3",
   "version": "3.7.10"
  }
 },
 "nbformat": 4,
 "nbformat_minor": 5
}
