{
 "cells": [
  {
   "cell_type": "markdown",
   "metadata": {},
   "source": [
    "<img src=\"images/tensorflow.jpg\">"
   ]
  },
  {
   "cell_type": "markdown",
   "metadata": {},
   "source": [
    "## Introduction\n",
    "\n",
    "In this lesson we will learn how to perform successive operations (\"looping\") without explicitly coding the commands. This is largely understood to be controlling the 'flow' of a program.  \n",
    "\n",
    "We will control the flow using:\n",
    "\n",
    "1. Logical statements to check for conditions (performing operations only `if` a condition is met)\n",
    "\n",
    "2. Continuing execution until a condition is met\n",
    "\n",
    "3. Iterating through a sequence of numbers using the `range()` function\n",
    "\n",
    "In order to do this we will learn the commands: `if`, `while`, and `for`\n",
    "\n"
   ]
  },
  {
   "cell_type": "markdown",
   "metadata": {},
   "source": [
    "# What if?\n",
    "\n",
    "Decision making is required when we want to execute a code only if a certain condition is satisfied. \n",
    "\n",
    "\n",
    "`if test expression:\n",
    "    statement(s)`\n",
    "    \n",
    "\n",
    "Here, the program evaluates the test expression and will execute statement(s) only if the test expression is `True`. If the test expression is `False`, the statement(s) is not executed. In Python, the body of the if statement is indicated by the indentation. The body starts with an indentation and the first unindented line marks the end.\n",
    "\n",
    "\n",
    "<img src=\"images/if-statement.jpg\">\n",
    "\n",
    "\n",
    "The if…elif…else statement is used in Python for decision making. Python supports the usual logical conditions from mathematics:\n",
    "\n",
    "* Equals: a == b\n",
    "* Not Equals: a != b\n",
    "* Less than: a < b\n",
    "* Less than or equal to: a <= b\n",
    "* Greater than: a > b\n",
    "* Greater than or equal to: a >= b\n",
    "\n",
    "\n",
    "These conditions can be used in several ways, most commonly in \"if statements\" and loops."
   ]
  },
  {
   "cell_type": "markdown",
   "metadata": {},
   "source": [
    "Let's start with if statement. If the number is positive, we print an appropriate message"
   ]
  },
  {
   "cell_type": "code",
   "execution_count": 4,
   "metadata": {},
   "outputs": [
    {
     "name": "stdout",
     "output_type": "stream",
     "text": [
      "3 is a positive number.\n",
      "This is always printed.\n",
      "This is also always printed.\n"
     ]
    }
   ],
   "source": [
    "num = 3\n",
    "if num > 0:\n",
    "    print(num, \"is a positive number.\")\n",
    "print(\"This is always printed.\")\n",
    "\n",
    "num = -1\n",
    "if num > 0:\n",
    "    print(num, \"is a positive number.\")\n",
    "print(\"This is also always printed.\")"
   ]
  },
  {
   "cell_type": "markdown",
   "metadata": {},
   "source": [
    "In the above example, num > 0 is the test expression. The body of if is executed only if this evaluates to True. When the variable num is equal to 3, test expression is true and statements inside the body of if are executed. If the variable num is equal to -1, test expression is false and statements inside the body of if are skipped. The print() statement falls outside of the if block (unindented). Hence, it is executed regardless of the test expression."
   ]
  },
  {
   "cell_type": "markdown",
   "metadata": {},
   "source": [
    "We can use if statements in a large number of contexts too. We can use it to check and see if a certain character is in a string for example."
   ]
  },
  {
   "cell_type": "code",
   "execution_count": 2,
   "metadata": {},
   "outputs": [
    {
     "name": "stdout",
     "output_type": "stream",
     "text": [
      "Give it up for all the a-names!\n"
     ]
    }
   ],
   "source": [
    "if 'a' in 'adam':\n",
    "    print('Give it up for all the a-names!')"
   ]
  },
  {
   "cell_type": "markdown",
   "metadata": {},
   "source": [
    "Or if something is less, more, or not equal"
   ]
  },
  {
   "cell_type": "code",
   "execution_count": 5,
   "metadata": {},
   "outputs": [
    {
     "name": "stdout",
     "output_type": "stream",
     "text": [
      "That's not fair! They got more than me!\n"
     ]
    }
   ],
   "source": [
    "my_pay = 5\n",
    "my_siblings_pay = 10\n",
    "if my_pay < my_siblings_pay:\n",
    "    print(\"That's not fair! They got more than me!\")"
   ]
  },
  {
   "cell_type": "markdown",
   "metadata": {},
   "source": [
    "## If else\n",
    "\n",
    "But sometimes we might want to chain multiple conditions together - for example, if we got paid the same or more than our sibling we might want to say that we think it is fair. \n",
    "\n",
    "To do that we pair the `if` with an `else`. If else syntax is below:\n",
    "\n",
    "\n",
    "`if test expression:\n",
    "    Body of if\n",
    "else:\n",
    "    Body of else`"
   ]
  },
  {
   "cell_type": "markdown",
   "metadata": {},
   "source": [
    "Let's write a program checks if the number is positive or negative and then displays an appropriate message"
   ]
  },
  {
   "cell_type": "code",
   "execution_count": 6,
   "metadata": {},
   "outputs": [
    {
     "name": "stdout",
     "output_type": "stream",
     "text": [
      "Positive or Zero\n"
     ]
    }
   ],
   "source": [
    "num = 3\n",
    "\n",
    "# Try these two variations as well. \n",
    "# num = -5\n",
    "# num = 0\n",
    "\n",
    "if num >= 0:\n",
    "    print(\"Positive or Zero\")\n",
    "else:\n",
    "    print(\"Negative number\")"
   ]
  },
  {
   "cell_type": "markdown",
   "metadata": {},
   "source": [
    "Another example:"
   ]
  },
  {
   "cell_type": "code",
   "execution_count": null,
   "metadata": {},
   "outputs": [],
   "source": [
    "my_pay = 5\n",
    "my_siblings_pay = 10\n",
    "\n",
    "if my_pay < my_siblings_pay:\n",
    "    print(\"That's not fair! They got more than me!\")\n",
    "else:\n",
    "    print(\"Well, that seems fair\")"
   ]
  },
  {
   "cell_type": "markdown",
   "metadata": {},
   "source": [
    "But what if we want to handle all 3 conditions (I get paid less, we get paid the same, I get paid more)? \n",
    "\n",
    "We can actually do that with what we already know. I want you to modify the code to handle all 3 conditions separately."
   ]
  },
  {
   "cell_type": "code",
   "execution_count": null,
   "metadata": {},
   "outputs": [],
   "source": [
    "# Modify to handle all 3 conditions with what you already know\n",
    "my_pay = 5\n",
    "my_siblings_pay = 10\n",
    "\n",
    "if my_pay < my_siblings_pay:\n",
    "    print(\"That's not fair! They got more than me!\")\n",
    "else:\n",
    "    print(\"Well, that seems fair\")"
   ]
  },
  {
   "cell_type": "markdown",
   "metadata": {},
   "source": [
    "## If elif else\n",
    "\n",
    "The elif is short for else if. It allows us to check for multiple expressions.\n",
    "\n",
    "`if test expression:\n",
    "    Body of if\n",
    "elif test expression:\n",
    "    Body of elif\n",
    "else: \n",
    "    Body of else`\n",
    "    \n",
    "The elif is short for else if. It allows us to check for multiple expressions. Example flowchat for if else elif is:\n",
    "\n",
    "<img src=\"images/if-elseif-ladder.jpg\">\n"
   ]
  },
  {
   "cell_type": "markdown",
   "metadata": {},
   "source": [
    "In the below program, we check if the number is positive or negative or zero and  display an appropriate message"
   ]
  },
  {
   "cell_type": "code",
   "execution_count": 7,
   "metadata": {},
   "outputs": [
    {
     "name": "stdout",
     "output_type": "stream",
     "text": [
      "Positive number\n"
     ]
    }
   ],
   "source": [
    "num = 3.4\n",
    "\n",
    "# Try these two variations as well:\n",
    "# num = 0\n",
    "# num = -4.5\n",
    "\n",
    "if num > 0:\n",
    "    print(\"Positive number\")\n",
    "elif num == 0:\n",
    "    print(\"Zero\")\n",
    "else:\n",
    "    print(\"Negative number\")"
   ]
  },
  {
   "cell_type": "markdown",
   "metadata": {},
   "source": [
    "Get value from the user"
   ]
  },
  {
   "cell_type": "code",
   "execution_count": null,
   "metadata": {},
   "outputs": [],
   "source": [
    "my_input = input(\"Type something: \")\n"
   ]
  },
  {
   "cell_type": "markdown",
   "metadata": {},
   "source": [
    "# Keeping code running (`while` loops)\n",
    "\n",
    "\n",
    "## While loops\n",
    "\n",
    "A loop is used to repeat a block of commands multiple times. There are two ways to write a loop, one is a `for` loop and the other is a `while` loop. Typically, you use a `for` loop when you know how many times you want to loop, and a `while` loop when looping is based on a conditional that will be modified during the loop.\n",
    "\n",
    "A `while` loop is pretty simple, it's structure looks like:\n",
    "\n",
    "    while a_condition:\n",
    "        # do something\n",
    "        ...\n",
    "        \n",
    "and it continues until `a_condition` is false.\n",
    "\n",
    "<img src=\"images/while_loop.jpg\">"
   ]
  },
  {
   "cell_type": "markdown",
   "metadata": {},
   "source": [
    "Another example:"
   ]
  },
  {
   "cell_type": "code",
   "execution_count": 11,
   "metadata": {},
   "outputs": [
    {
     "name": "stdout",
     "output_type": "stream",
     "text": [
      "The count is: 0\n",
      "The count is: 1\n",
      "The count is: 2\n",
      "The count is: 3\n",
      "The count is: 4\n",
      "The count is: 5\n",
      "The count is: 6\n",
      "The count is: 7\n",
      "The count is: 8\n",
      "Good bye!\n"
     ]
    }
   ],
   "source": [
    "count = 0\n",
    "while (count < 9):\n",
    "    print('The count is:', count)\n",
    "    count = count + 1\n",
    "\n",
    "print(\"Good bye!\")"
   ]
  },
  {
   "cell_type": "markdown",
   "metadata": {},
   "source": [
    "## Continue and break\n",
    "\n",
    "The break statement will completely break out of the current loop, meaning it won’t run any more of the statements contained inside of it. continue works a little differently. Instead, it goes back to the start of the loop, skipping over any other statements contained within the loop.\n",
    "\n",
    "\n",
    "\n"
   ]
  },
  {
   "cell_type": "markdown",
   "metadata": {},
   "source": [
    "<img src=\"images/continueinc.jpg\">\n"
   ]
  },
  {
   "cell_type": "code",
   "execution_count": 17,
   "metadata": {},
   "outputs": [
    {
     "name": "stdout",
     "output_type": "stream",
     "text": [
      "Type any digit: 7\n",
      "Your answer is greater than 5.\n"
     ]
    }
   ],
   "source": [
    "while True:\n",
    "    user_input = int(input('Type any digit: '))\n",
    "    \n",
    "    if user_input>5:\n",
    "        print('Your answer is greater than 5.')\n",
    "        break\n",
    "    else:\n",
    "        print('Your answer is less than 5.')"
   ]
  },
  {
   "cell_type": "markdown",
   "metadata": {},
   "source": [
    "# Iterating through a sequence (`for` loops)\n",
    "\n",
    "A `while` loop is an excellent choice when you need to perform a set of commands and do not know how many times they *should* be executed but do know when the commands *should finish*. \n",
    "\n",
    "Our next option helps us solve the other part of looping, when we know *how many times* a command should be executed.\n",
    "\n",
    "## For loops\n",
    "\n",
    "A `for` loop lets us repeat a set of commands a defined number of times. The syntax for a `for` loop is just:\n",
    "\n",
    "    for item in sequence:\n",
    "        # do something with item\n",
    "        ...\n",
    "\n",
    "But what is a sequence?\n",
    "\n",
    "There are lots of functions in Python that will actually return a sequence - they are called *iterators*. An iterator essentially provides the next element in the sequence each time we access it. \n",
    "\n",
    "The iterator that we will use to demonstrate a for loop is the `range()` function. The range function gives us a sequence of numbers from the first number we give it up until the last number we give it.\n",
    "\n",
    "\n",
    "<img src=\"images/for-loop-python.jpg\">"
   ]
  },
  {
   "cell_type": "code",
   "execution_count": null,
   "metadata": {},
   "outputs": [],
   "source": [
    "range(1, 5)"
   ]
  },
  {
   "cell_type": "markdown",
   "metadata": {},
   "source": [
    "That doesn't look right! \n",
    "\n",
    "It's because it's an iterator, in order to access the numbers we have to actually access the iterator each time to 'pull' a number out."
   ]
  },
  {
   "cell_type": "code",
   "execution_count": null,
   "metadata": {},
   "outputs": [],
   "source": [
    "for i in range(1, 5):\n",
    "    print(i)"
   ]
  },
  {
   "cell_type": "code",
   "execution_count": 19,
   "metadata": {},
   "outputs": [
    {
     "name": "stdout",
     "output_type": "stream",
     "text": [
      "Hello, Rose\n",
      "Hello, Max\n",
      "Hello, Nina\n"
     ]
    }
   ],
   "source": [
    "names = [\"Rose\", \"Max\", \"Nina\", \"Phillip\"]\n",
    "for name in names:\n",
    "    print(f\"Hello, {name}\")\n",
    "    if name == \"Nina\":\n",
    "        break\n",
    "        \n"
   ]
  },
  {
   "cell_type": "markdown",
   "metadata": {},
   "source": [
    "What's happening is that each time we go to the top of the for loop, we pull another number out of the sequence and that number is assigned to `i`.\n",
    "\n",
    "After that point, we execute all of the indented code in the block with the current value of `i`. Once we've finished executing the code we go back up to the top and assign the next value in the sequence to `i`."
   ]
  },
  {
   "cell_type": "code",
   "execution_count": null,
   "metadata": {},
   "outputs": [],
   "source": [
    "for i in range(1, 5):\n",
    "    print(i)\n",
    "    print(i*3)\n",
    "    i = 12\n",
    "    print(i*3)\n",
    "    print('---')"
   ]
  },
  {
   "cell_type": "markdown",
   "metadata": {},
   "source": [
    "Using a for loop is very useful when we want to access all of the elements of some variable. For example, if we know that we want to do something to every individual letter in a string, we could use the range funciton to access each element directly."
   ]
  },
  {
   "cell_type": "code",
   "execution_count": 12,
   "metadata": {},
   "outputs": [
    {
     "name": "stdout",
     "output_type": "stream",
     "text": [
      "h\n",
      "a\n",
      "m\n",
      "s\n"
     ]
    }
   ],
   "source": [
    "phrase = 'hams'\n",
    "\n",
    "for i in range(4):\n",
    "    print(phrase[i])"
   ]
  },
  {
   "cell_type": "markdown",
   "metadata": {},
   "source": [
    "Note that the range we are iterating through **must** match the number of letters in `phrase`. Otherwise we would have an error as we try to access parts of the `phrase` variable that doesn't exist."
   ]
  },
  {
   "cell_type": "code",
   "execution_count": 13,
   "metadata": {},
   "outputs": [
    {
     "name": "stdout",
     "output_type": "stream",
     "text": [
      "h\n",
      "a\n",
      "m\n",
      "s\n"
     ]
    },
    {
     "ename": "IndexError",
     "evalue": "string index out of range",
     "output_type": "error",
     "traceback": [
      "\u001b[1;31m---------------------------------------------------------------------------\u001b[0m",
      "\u001b[1;31mIndexError\u001b[0m                                Traceback (most recent call last)",
      "\u001b[1;32m<ipython-input-13-22a287f9d04e>\u001b[0m in \u001b[0;36m<module>\u001b[1;34m\u001b[0m\n\u001b[0;32m      2\u001b[0m \u001b[1;33m\u001b[0m\u001b[0m\n\u001b[0;32m      3\u001b[0m \u001b[1;32mfor\u001b[0m \u001b[0mi\u001b[0m \u001b[1;32min\u001b[0m \u001b[0mrange\u001b[0m\u001b[1;33m(\u001b[0m\u001b[1;36m5\u001b[0m\u001b[1;33m)\u001b[0m\u001b[1;33m:\u001b[0m\u001b[1;33m\u001b[0m\u001b[0m\n\u001b[1;32m----> 4\u001b[1;33m     \u001b[0mprint\u001b[0m\u001b[1;33m(\u001b[0m\u001b[0mphrase\u001b[0m\u001b[1;33m[\u001b[0m\u001b[0mi\u001b[0m\u001b[1;33m]\u001b[0m\u001b[1;33m)\u001b[0m\u001b[1;33m\u001b[0m\u001b[0m\n\u001b[0m",
      "\u001b[1;31mIndexError\u001b[0m: string index out of range"
     ]
    }
   ],
   "source": [
    "phrase = 'hams'\n",
    "\n",
    "for i in range(5):\n",
    "    print(phrase[i])"
   ]
  },
  {
   "cell_type": "markdown",
   "metadata": {},
   "source": [
    "So this would allow us to actually manipulate the individual characters of a string and create a new string that has the manipulated characters.\n",
    "\n",
    "Like, let's say we wanted to capitalize every letter `A` in any string we are given.\n",
    "\n",
    "Write code to do that using a for loop with the word \"aardvarks\""
   ]
  },
  {
   "cell_type": "code",
   "execution_count": null,
   "metadata": {},
   "outputs": [],
   "source": [
    "# Write code to capitalize every letter 'A' in the following word\n",
    "phrase = 'aardvarks'\n",
    "\n",
    "\n"
   ]
  }
 ],
 "metadata": {
  "anaconda-cloud": {},
  "kernelspec": {
   "display_name": "Python 3",
   "language": "python",
   "name": "python3"
  },
  "language_info": {
   "codemirror_mode": {
    "name": "ipython",
    "version": 3
   },
   "file_extension": ".py",
   "mimetype": "text/x-python",
   "name": "python",
   "nbconvert_exporter": "python",
   "pygments_lexer": "ipython3",
   "version": "3.7.10"
  }
 },
 "nbformat": 4,
 "nbformat_minor": 1
}
