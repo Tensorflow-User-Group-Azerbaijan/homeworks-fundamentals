{
 "cells": [
  {
   "cell_type": "markdown",
   "id": "danish-relations",
   "metadata": {},
   "source": [
    "<img src=\"images/tensorflow.jpg\">"
   ]
  },
  {
   "cell_type": "markdown",
   "id": "worse-comedy",
   "metadata": {},
   "source": [
    "## Exercise 1.\n",
    " \n",
    "#### Fill in the blank with comparison operators (>,<,>=,<=,!=,==) so that each of the following expressions are True\n"
   ]
  },
  {
   "cell_type": "code",
   "execution_count": 2,
   "id": "antique-retro",
   "metadata": {},
   "outputs": [
    {
     "data": {
      "text/plain": [
       "True"
      ]
     },
     "execution_count": 2,
     "metadata": {},
     "output_type": "execute_result"
    }
   ],
   "source": [
    "# Any of the following (>,<,>=,<=,!=,==):\n",
    "\n",
    "# 3 __ 4\n",
    "print('We can use',youranswer,' for True expression.')\n",
    "\n",
    "# 10 __ 5\n",
    "print('We can use',youranswer,' for True expression.')\n",
    "\n",
    "# \"jack\" __ \"jill\"\n",
    "print('We can use',youranswer,' for True expression.')\n",
    "\n",
    "\n",
    "# 42 __ \"42\"\n",
    "print('We can use',youranswer,' for True expression.')\n"
   ]
  },
  {
   "cell_type": "markdown",
   "id": "given-index",
   "metadata": {},
   "source": [
    "## Exercise 2.\n",
    " \n",
    "####  Display whether the length of user input is <, > or = 5 characters\n"
   ]
  },
  {
   "cell_type": "code",
   "execution_count": 4,
   "id": "behind-building",
   "metadata": {},
   "outputs": [
    {
     "name": "stdout",
     "output_type": "stream",
     "text": [
      "Type something: salam necesen\n",
      "Your input is greater than 5 characters long.\n"
     ]
    }
   ],
   "source": [
    "my_input = input(\"Type something: \")\n",
    "\n",
    "if len(my_input) < 5:\n",
    "    print(\"Your input is less than 5 characters long.\")\n",
    "    \n",
    "elif #yourcode:\n",
    "    print(\"Your input is greater than 5 characters long.\")\n",
    "else #yourcode"
   ]
  },
  {
   "cell_type": "markdown",
   "id": "protective-breeding",
   "metadata": {},
   "source": [
    "## Exercise 3.\n",
    " \n",
    "####  Run in loop until the user types \"Q\". When user write \"Q\", display \"welcome\" message and break the loop.  Else, display \"try again\" message.\n",
    "\n"
   ]
  },
  {
   "cell_type": "code",
   "execution_count": null,
   "id": "coupled-penguin",
   "metadata": {},
   "outputs": [],
   "source": [
    "while True:\n",
    "    user_input = input('Type \"q\" or \"Q\" to quit: ')\n",
    "    if user_input == \"Q\":\n",
    "        #yourcode"
   ]
  },
  {
   "cell_type": "markdown",
   "id": "french-engineer",
   "metadata": {},
   "source": [
    "## Exercise 4.\n",
    " \n",
    "#### Display every number from 1 through 50 except multiples of 3"
   ]
  },
  {
   "cell_type": "code",
   "execution_count": 8,
   "id": "altered-blackjack",
   "metadata": {},
   "outputs": [
    {
     "name": "stdout",
     "output_type": "stream",
     "text": [
      "1\n",
      "2\n",
      "4\n",
      "5\n",
      "7\n",
      "8\n",
      "10\n",
      "11\n",
      "13\n",
      "14\n",
      "16\n",
      "17\n",
      "19\n",
      "20\n",
      "22\n",
      "23\n",
      "25\n",
      "26\n",
      "28\n",
      "29\n",
      "31\n",
      "32\n",
      "34\n",
      "35\n",
      "37\n",
      "38\n",
      "40\n",
      "41\n",
      "43\n",
      "44\n",
      "46\n",
      "47\n",
      "49\n",
      "50\n"
     ]
    }
   ],
   "source": [
    "for i in range(1, 51):\n",
    "    #your code"
   ]
  }
 ],
 "metadata": {
  "kernelspec": {
   "display_name": "Python 3",
   "language": "python",
   "name": "python3"
  },
  "language_info": {
   "codemirror_mode": {
    "name": "ipython",
    "version": 3
   },
   "file_extension": ".py",
   "mimetype": "text/x-python",
   "name": "python",
   "nbconvert_exporter": "python",
   "pygments_lexer": "ipython3",
   "version": "3.7.0"
  }
 },
 "nbformat": 4,
 "nbformat_minor": 5
}
